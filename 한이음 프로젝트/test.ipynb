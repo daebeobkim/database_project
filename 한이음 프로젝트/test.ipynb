{
 "cells": [
  {
   "cell_type": "code",
   "execution_count": 6,
   "metadata": {},
   "outputs": [],
   "source": [
    "from flask import Flask, render_template, request, jsonify\n",
    "import pymysql\n",
    "import pandas as pd\n",
    "\n",
    "db = pymysql.connect(host=\"192.168.0.40\", user=\"root\", passwd=\"1234\", db=\"CAP2\", charset=\"utf8\")\n",
    "cur = db.cursor()\n",
    "sql = 'SELECT * from han'\n",
    "cur.execute(sql)\n",
    "test = pd.DataFrame(cur.fetchall())\n",
    "test.columns = ['ATempC','Humid','TempC','Distance','Sound','Cry']"
   ]
  },
  {
   "cell_type": "code",
   "execution_count": 33,
   "metadata": {},
   "outputs": [
    {
     "name": "stdout",
     "output_type": "stream",
     "text": [
      "평균값\n",
      "주변온도: 27.4℃, 애기온도: 28.6℃\n",
      "습도:54.5％\n",
      "거리:183.1CM\n",
      "소리 : 3.1LV\n"
     ]
    }
   ],
   "source": [
    "ATempC = test['ATempC'].mean()\n",
    "Humid = test['Humid'].mean()\n",
    "TempC= test['TempC'].mean()\n",
    "Distance = test['Distance'].mean()\n",
    "Sound = test['Sound'].mean()\n",
    "Cry = test['Cry'].mean()\n",
    "print(\"평균값\")\n",
    "print(\"주변온도: %0.1f℃, 애기온도: %0.1f℃\" %(ATempC,TempC))\n",
    "print(\"습도:%0.1f％\" %Humid)\n",
    "print(\"거리:%0.1fCM\" %Distance)\n",
    "print(\"소리 : %0.1fLV\" %Sound)"
   ]
  },
  {
   "cell_type": "code",
   "execution_count": null,
   "metadata": {},
   "outputs": [],
   "source": []
  }
 ],
 "metadata": {
  "kernelspec": {
   "display_name": "Python 3",
   "language": "python",
   "name": "python3"
  },
  "language_info": {
   "codemirror_mode": {
    "name": "ipython",
    "version": 3
   },
   "file_extension": ".py",
   "mimetype": "text/x-python",
   "name": "python",
   "nbconvert_exporter": "python",
   "pygments_lexer": "ipython3",
   "version": "3.11.3"
  },
  "orig_nbformat": 4
 },
 "nbformat": 4,
 "nbformat_minor": 2
}
