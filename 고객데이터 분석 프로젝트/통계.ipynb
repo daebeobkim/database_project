{
 "cells": [
  {
   "cell_type": "code",
   "execution_count": 36,
   "metadata": {},
   "outputs": [
    {
     "name": "stdout",
     "output_type": "stream",
     "text": [
      "나이 :  48.96 \n",
      "소득 :  110731.8215 \n",
      "지출 점수 : 50.9625 \n",
      "가족 규모 :  3.7685\n"
     ]
    }
   ],
   "source": [
    "\"\"\"\n",
    "데이터 세트는 2000개의 레코드와 8개의 열로 구성됩니다.\n",
    "고객 ID : CustomerID\n",
    "성별 : Gender\n",
    "나이 : Age\n",
    "연간 소득 : AnnualIncome\n",
    "지출 점수 - 고객 행동 및 지출 특성에 따라 상점에서 할당한 점수 : Spending Score\n",
    "직업 : Profession\n",
    "업무 경험 - 년 : Work Experience\n",
    "가족 규모 : Family Size\n",
    "\"\"\"\n",
    "\n",
    "from collections import Counter\n",
    "import numpy as np\n",
    "import matplotlib.pyplot as plt\n",
    "%matplotlib inline\n",
    "import seaborn as sns\n",
    "import pandas as pd\n",
    "cm = pd.read_csv(\"C:/Users/rlaeo/OneDrive/바탕 화면/Customers.csv\")\n",
    "print(\"나이 : \",cm['Age'].mean(),\n",
    "      \"\\n소득 : \",cm['AnnualIncome'].mean(),\n",
    "      \"\\n지출 점수 :\",cm['SpendingScore'].mean(),\n",
    "      \"\\n가족 규모 : \",cm['FamilySize'].mean())"
   ]
  },
  {
   "cell_type": "code",
   "execution_count": 37,
   "metadata": {},
   "outputs": [
    {
     "name": "stdout",
     "output_type": "stream",
     "text": [
      "0            청소년\n",
      "1       청소년(VIP)\n",
      "2            청소년\n",
      "3            대학생\n",
      "4             중년\n",
      "          ...   \n",
      "1995          노인\n",
      "1996          노인\n",
      "1997          노인\n",
      "1998          노인\n",
      "1999          노인\n",
      "Name: 나이대, Length: 2000, dtype: object\n"
     ]
    }
   ],
   "source": [
    "def test(Age,SpendingScore):\n",
    "    name = \"\"\n",
    "    if (Age <= 20) : name = \"청소년\"\n",
    "    elif (Age <= 25) & (SpendingScore > 80): name = \"청소년(VIP)\"\n",
    "    elif (Age <= 25) & (SpendingScore < 80): name = \"대학생\"\n",
    "    elif (Age <= 25) & (SpendingScore > 80): name = \"대학생(VIP)\"\n",
    "    elif (Age <= 30) & (SpendingScore < 80): name = \"사회초년생\"\n",
    "    elif (Age <= 30) & (SpendingScore > 80): name = \"사회초년생(VIP)\"\n",
    "    elif (Age <= 55) & (SpendingScore < 80): name = \"중년\"\n",
    "    elif (Age <= 55) & (SpendingScore > 80): name = \"중년(VIP)\"\n",
    "    elif (Age >= 55) & (SpendingScore < 80): name = \"노인\"\n",
    "    elif (Age >= 55) & (SpendingScore > 80): name = \"노인(VIP)\"\n",
    "    \n",
    "    return name\n",
    "\n",
    "cm[\"나이대\"] = cm[[\"Age\", \"SpendingScore\"]].apply(lambda x: test(x[0], x[1]), axis=1)\n",
    "print(cm[\"나이대\"])\n",
    "#나이대와 지출점수로 vip차별화(apply,lambda)"
   ]
  },
  {
   "cell_type": "code",
   "execution_count": 47,
   "metadata": {},
   "outputs": [
    {
     "data": {
      "text/plain": [
       "Gender\n",
       "Female     998.338111\n",
       "Male      1003.649877\n",
       "Name: CustomerID, dtype: float64"
      ]
     },
     "execution_count": 47,
     "metadata": {},
     "output_type": "execute_result"
    }
   ],
   "source": [
    "cm.groupby(\"Gender\")[\"CustomerID\"].mean()\n"
   ]
  }
 ],
 "metadata": {
  "kernelspec": {
   "display_name": "Python 3",
   "language": "python",
   "name": "python3"
  },
  "language_info": {
   "codemirror_mode": {
    "name": "ipython",
    "version": 3
   },
   "file_extension": ".py",
   "mimetype": "text/x-python",
   "name": "python",
   "nbconvert_exporter": "python",
   "pygments_lexer": "ipython3",
   "version": "3.11.3"
  },
  "orig_nbformat": 4
 },
 "nbformat": 4,
 "nbformat_minor": 2
}
