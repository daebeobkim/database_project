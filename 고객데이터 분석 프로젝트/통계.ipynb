{
 "cells": [
  {
   "cell_type": "code",
   "execution_count": 36,
   "metadata": {},
   "outputs": [
    {
     "name": "stdout",
     "output_type": "stream",
     "text": [
      "나이 :  48.96 \n",
      "소득 :  110731.8215 \n",
      "지출 점수 : 50.9625 \n",
      "가족 규모 :  3.7685\n"
     ]
    }
   ],
   "source": [
    "\"\"\"\n",
    "데이터 세트는 2000개의 레코드와 8개의 열로 구성됩니다.\n",
    "고객 ID : CustomerID\n",
    "성별 : Gender\n",
    "나이 : Age\n",
    "연간 소득 : AnnualIncome\n",
    "지출 점수 - 고객 행동 및 지출 특성에 따라 상점에서 할당한 점수 : SpendingScore\n",
    "직업 : Profession\n",
    "업무 경험 - 년 : WorkExperience\n",
    "가족 규모 : FamilySize\n",
    "\"\"\"\n",
    "\n",
    "from collections import Counter\n",
    "import numpy as np\n",
    "import matplotlib.pyplot as plt\n",
    "%matplotlib inline\n",
    "import seaborn as sns\n",
    "import pandas as pd\n",
    "cm = pd.read_csv(\"C:/Users/rlaeo/OneDrive/바탕 화면/Customers.csv\")\n",
    "print(\"나이 : \",cm['Age'].mean(),\n",
    "      \"\\n소득 : \",cm['AnnualIncome'].mean(),\n",
    "      \"\\n지출 점수 :\",cm['SpendingScore'].mean(),\n",
    "      \"\\n가족 규모 : \",cm['FamilySize'].mean())\n",
    "      "
   ]
  },
  {
   "cell_type": "code",
   "execution_count": 37,
   "metadata": {},
   "outputs": [
    {
     "name": "stdout",
     "output_type": "stream",
     "text": [
      "0            청소년\n",
      "1       청소년(VIP)\n",
      "2            청소년\n",
      "3            대학생\n",
      "4             중년\n",
      "          ...   \n",
      "1995          노인\n",
      "1996          노인\n",
      "1997          노인\n",
      "1998          노인\n",
      "1999          노인\n",
      "Name: 나이대, Length: 2000, dtype: object\n"
     ]
    }
   ],
   "source": [
    "def test(Age,SpendingScore):\n",
    "    name = \"\"\n",
    "    if (Age <= 20) : name = \"청소년\"\n",
    "    elif (Age <= 25) & (SpendingScore > 80): name = \"청소년(VIP)\"\n",
    "    elif (Age <= 25) & (SpendingScore < 80): name = \"대학생\"\n",
    "    elif (Age <= 25) & (SpendingScore > 80): name = \"대학생(VIP)\"\n",
    "    elif (Age <= 30) & (SpendingScore < 80): name = \"사회초년생\"\n",
    "    elif (Age <= 30) & (SpendingScore > 80): name = \"사회초년생(VIP)\"\n",
    "    elif (Age <= 55) & (SpendingScore < 80): name = \"중년\"\n",
    "    elif (Age <= 55) & (SpendingScore > 80): name = \"중년(VIP)\"\n",
    "    elif (Age >= 55) & (SpendingScore < 80): name = \"노인\"\n",
    "    elif (Age >= 55) & (SpendingScore > 80): name = \"노인(VIP)\"\n",
    "    \n",
    "    return name\n",
    "\n",
    "cm[\"나이대\"] = cm[[\"Age\", \"SpendingScore\"]].apply(lambda x: test(x[0], x[1]), axis=1)\n",
    "print(cm[\"나이대\"])\n",
    "#나이대와 지출점수로 vip차별화(apply,lambda)"
   ]
  },
  {
   "cell_type": "code",
   "execution_count": 63,
   "metadata": {},
   "outputs": [
    {
     "data": {
      "text/html": [
       "<div>\n",
       "<style scoped>\n",
       "    .dataframe tbody tr th:only-of-type {\n",
       "        vertical-align: middle;\n",
       "    }\n",
       "\n",
       "    .dataframe tbody tr th {\n",
       "        vertical-align: top;\n",
       "    }\n",
       "\n",
       "    .dataframe thead th {\n",
       "        text-align: right;\n",
       "    }\n",
       "</style>\n",
       "<table border=\"1\" class=\"dataframe\">\n",
       "  <thead>\n",
       "    <tr style=\"text-align: right;\">\n",
       "      <th></th>\n",
       "      <th>count</th>\n",
       "      <th>mean</th>\n",
       "      <th>std</th>\n",
       "      <th>min</th>\n",
       "      <th>25%</th>\n",
       "      <th>50%</th>\n",
       "      <th>75%</th>\n",
       "      <th>max</th>\n",
       "    </tr>\n",
       "    <tr>\n",
       "      <th>Gender</th>\n",
       "      <th></th>\n",
       "      <th></th>\n",
       "      <th></th>\n",
       "      <th></th>\n",
       "      <th></th>\n",
       "      <th></th>\n",
       "      <th></th>\n",
       "      <th></th>\n",
       "    </tr>\n",
       "  </thead>\n",
       "  <tbody>\n",
       "    <tr>\n",
       "      <th>Female</th>\n",
       "      <td>1186.0</td>\n",
       "      <td>4.035413</td>\n",
       "      <td>3.884896</td>\n",
       "      <td>0.0</td>\n",
       "      <td>1.0</td>\n",
       "      <td>3.0</td>\n",
       "      <td>7.0</td>\n",
       "      <td>17.0</td>\n",
       "    </tr>\n",
       "    <tr>\n",
       "      <th>Male</th>\n",
       "      <td>814.0</td>\n",
       "      <td>4.200246</td>\n",
       "      <td>3.976307</td>\n",
       "      <td>0.0</td>\n",
       "      <td>1.0</td>\n",
       "      <td>3.5</td>\n",
       "      <td>8.0</td>\n",
       "      <td>17.0</td>\n",
       "    </tr>\n",
       "  </tbody>\n",
       "</table>\n",
       "</div>"
      ],
      "text/plain": [
       "         count      mean       std  min  25%  50%  75%   max\n",
       "Gender                                                      \n",
       "Female  1186.0  4.035413  3.884896  0.0  1.0  3.0  7.0  17.0\n",
       "Male     814.0  4.200246  3.976307  0.0  1.0  3.5  8.0  17.0"
      ]
     },
     "execution_count": 63,
     "metadata": {},
     "output_type": "execute_result"
    }
   ],
   "source": [
    "cm.groupby(\"Gender\")[\"WorkExperience\"].describe()\n"
   ]
  }
 ],
 "metadata": {
  "kernelspec": {
   "display_name": "Python 3",
   "language": "python",
   "name": "python3"
  },
  "language_info": {
   "codemirror_mode": {
    "name": "ipython",
    "version": 3
   },
   "file_extension": ".py",
   "mimetype": "text/x-python",
   "name": "python",
   "nbconvert_exporter": "python",
   "pygments_lexer": "ipython3",
   "version": "3.11.3"
  },
  "orig_nbformat": 4
 },
 "nbformat": 4,
 "nbformat_minor": 2
}
