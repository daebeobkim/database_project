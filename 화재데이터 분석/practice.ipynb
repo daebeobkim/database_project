{
 "cells": [
  {
   "cell_type": "code",
   "execution_count": 4,
   "metadata": {},
   "outputs": [
    {
     "name": "stdout",
     "output_type": "stream",
     "text": [
      "b'<OpenAPI_ServiceResponse>\\n\\t<cmmMsgHeader>\\n\\t\\t<errMsg>SERVICE ERROR</errMsg>\\n\\t\\t<returnAuthMsg>SERVICE_KEY_IS_NOT_REGISTERED_ERROR</returnAuthMsg>\\n\\t\\t<returnReasonCode>30</returnReasonCode>\\n\\t</cmmMsgHeader>\\n</OpenAPI_ServiceResponse>'\n"
     ]
    }
   ],
   "source": [
    "import requests\n",
    "\n",
    "url = 'http://apis.data.go.kr/1400377/forestPoint/forestPointListGeongugSearch'\n",
    "params ={'serviceKey' : '서비스키', 'pageNo' : '1', 'numOfRows' : '10', '_type' : 'xml', 'excludeForecast' : '0' }\n",
    "\n",
    "response = requests.get(url, params=params)\n",
    "print(response.content)\n"
   ]
  },
  {
   "cell_type": "code",
   "execution_count": 11,
   "metadata": {},
   "outputs": [
    {
     "name": "stdout",
     "output_type": "stream",
     "text": [
      "[]\n",
      "Empty DataFrame\n",
      "Columns: []\n",
      "Index: []\n"
     ]
    }
   ],
   "source": [
    "import requests\n",
    "import pprint\n",
    "\n",
    "\n",
    "#인증키 입력\n",
    "encoding = '발급받은 인코딩 인증키를 복사하여 붙여넣기 해 주세요.'\n",
    "decoding = '발급받은 디코딩 인증키를 복사하여 붙여넣기 해 주세요.'\n",
    "\n",
    "#url 입력\n",
    "url = 'http://openapi.data.go.kr/openapi/service/rest/Covid19/getCovid19SidoInfStateJson'\n",
    "params ={'serviceKey' : decoding , 'pageNo' : '1', 'numOfRows' : '10', 'startCreateDt' : '2020', 'endCreateDt' : '20211103' }\n",
    "\n",
    "response = requests.get(url, params=params)\n",
    "\n",
    "# xml 내용\n",
    "content = response.text\n",
    "\n",
    "# 깔끔한 출력 위한 코드\n",
    "pp = pprint.PrettyPrinter(indent=4)\n",
    "#print(pp.pprint(content))\n",
    "\n",
    "### xml을 DataFrame으로 변환하기 ###\n",
    "from os import name\n",
    "import xml.etree.ElementTree as et\n",
    "import pandas as pd\n",
    "import bs4\n",
    "from lxml import html\n",
    "from urllib.parse import urlencode, quote_plus, unquote\n",
    "\n",
    "## 각 컬럼 값 ## (포털 문서에서 꼭 확인하세요)\n",
    "\"\"\"\n",
    "SEQ : 게시글번호(국내 시도별 발생현황 고유값)\n",
    "CREATE_DT: \t등록일시분초\n",
    "DEATH_CNT: \t사망자 수\n",
    "GUBUN: \t시도명(한글)\n",
    "GUBUN_CN: \t시도명(중국어)\n",
    "gubunEn: 시도명(영어)\n",
    "INC_DEC: 전일대비 증감 수\n",
    "ISOL_CLEAR_CNT: 격리 해제 수\n",
    "QUR_RATE: 10만명당 발생률\n",
    "STD_DAY: 기준일시\n",
    "UPDATE_DT: 수정일시분초\n",
    "DEF_CNT: 확진자 수\n",
    "ISOL_ING_CNT: 격리중 환자수\n",
    "OVER_FLOW_CNT: 해외유입 수\n",
    "LOCAL_OCC_CNT: 지역발생 수\n",
    "\n",
    "\"\"\" \n",
    "\n",
    "#bs4 사용하여 item 태그 분리\n",
    "\n",
    "xml_obj = bs4.BeautifulSoup(content,'lxml-xml')\n",
    "rows = xml_obj.findAll('item')\n",
    "print(rows)\n",
    "\"\"\"\n",
    "# 컬럼 값 조회용\n",
    "columns = rows[0].find_all()\n",
    "print(columns)\n",
    "\"\"\"\n",
    "\n",
    "# 각 행의 컬럼, 이름, 값을 가지는 리스트 만들기\n",
    "row_list = [] # 행값\n",
    "name_list = [] # 열이름값\n",
    "value_list = [] #데이터값\n",
    "\n",
    "# xml 안의 데이터 수집\n",
    "for i in range(0, len(rows)):\n",
    "    columns = rows[i].find_all()\n",
    "    #첫째 행 데이터 수집\n",
    "    for j in range(0,len(columns)):\n",
    "        if i ==0:\n",
    "            # 컬럼 이름 값 저장\n",
    "            name_list.append(columns[j].name)\n",
    "        # 컬럼의 각 데이터 값 저장\n",
    "        value_list.append(columns[j].text)\n",
    "    # 각 행의 value값 전체 저장\n",
    "    row_list.append(value_list)\n",
    "    # 데이터 리스트 값 초기화\n",
    "    value_list=[]\n",
    "\n",
    "#xml값 DataFrame으로 만들기\n",
    "corona_df = pd.DataFrame(row_list, columns=name_list)\n",
    "###assertion error의 경우###\n",
    "###corona_df = pd.DataFrame(row_list)\n",
    "print(corona_df.head(19)) \n"
   ]
  },
  {
   "cell_type": "code",
   "execution_count": 8,
   "metadata": {},
   "outputs": [
    {
     "name": "stdout",
     "output_type": "stream",
     "text": [
      "[]\n"
     ]
    }
   ],
   "source": [
    "### xml을 DataFrame으로 변환하기 ###\n",
    "from os import name\n",
    "import xml.etree.ElementTree as et\n",
    "import pandas as pd\n",
    "import bs4\n",
    "from lxml import html\n",
    "from urllib.parse import urlencode, quote_plus, unquote\n",
    "\n",
    "## 각 컬럼 값 ## (포털 문서에서 꼭 확인하세요)\n",
    "\"\"\"\n",
    "SEQ : 게시글번호(국내 시도별 발생현황 고유값)\n",
    "CREATE_DT: \t등록일시분초\n",
    "DEATH_CNT: \t사망자 수\n",
    "GUBUN: \t시도명(한글)\n",
    "GUBUN_CN: \t시도명(중국어)\n",
    "gubunEn: 시도명(영어)\n",
    "INC_DEC: 전일대비 증감 수\n",
    "ISOL_CLEAR_CNT: 격리 해제 수\n",
    "QUR_RATE: 10만명당 발생률\n",
    "STD_DAY: 기준일시\n",
    "UPDATE_DT: 수정일시분초\n",
    "DEF_CNT: 확진자 수\n",
    "ISOL_ING_CNT: 격리중 환자수\n",
    "OVER_FLOW_CNT: 해외유입 수\n",
    "LOCAL_OCC_CNT: 지역발생 수\n",
    "\n",
    "\"\"\" \n",
    "\n",
    "#bs4 사용하여 item 태그 분리\n",
    "\n",
    "xml_obj = bs4.BeautifulSoup(content,'lxml-xml')\n",
    "rows = xml_obj.findAll('item')\n",
    "print(rows)"
   ]
  }
 ],
 "metadata": {
  "kernelspec": {
   "display_name": "Python 3",
   "language": "python",
   "name": "python3"
  },
  "language_info": {
   "codemirror_mode": {
    "name": "ipython",
    "version": 3
   },
   "file_extension": ".py",
   "mimetype": "text/x-python",
   "name": "python",
   "nbconvert_exporter": "python",
   "pygments_lexer": "ipython3",
   "version": "3.9.10"
  },
  "orig_nbformat": 4,
  "vscode": {
   "interpreter": {
    "hash": "d5e82c3fb7da1ea83acbd3af36819ee526c08f1ab732399acb2375113e5497e2"
   }
  }
 },
 "nbformat": 4,
 "nbformat_minor": 2
}
