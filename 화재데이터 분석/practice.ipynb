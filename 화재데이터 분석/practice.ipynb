{
 "cells": [
  {
   "cell_type": "code",
   "execution_count": 4,
   "metadata": {},
   "outputs": [
    {
     "name": "stdout",
     "output_type": "stream",
     "text": [
      "b'<OpenAPI_ServiceResponse>\\n\\t<cmmMsgHeader>\\n\\t\\t<errMsg>SERVICE ERROR</errMsg>\\n\\t\\t<returnAuthMsg>SERVICE_KEY_IS_NOT_REGISTERED_ERROR</returnAuthMsg>\\n\\t\\t<returnReasonCode>30</returnReasonCode>\\n\\t</cmmMsgHeader>\\n</OpenAPI_ServiceResponse>'\n"
     ]
    }
   ],
   "source": [
    "import requests\n",
    "\n",
    "url = 'http://apis.data.go.kr/1400377/forestPoint/forestPointListGeongugSearch'\n",
    "params ={'serviceKey' : '서비스키', 'pageNo' : '1', 'numOfRows' : '10', '_type' : 'xml', 'excludeForecast' : '0' }\n",
    "\n",
    "response = requests.get(url, params=params)\n",
    "print(response.content)\n"
   ]
  },
  {
   "cell_type": "code",
   "execution_count": 5,
   "metadata": {},
   "outputs": [],
   "source": [
    "import requests\n",
    "import pprint\n",
    "\n",
    "#인증키 입력\n",
    "encoding = '발급받은 인코딩 인증키를 복사하여 붙여넣기 해 주세요.'\n",
    "decoding = '발급받은 디코딩 인증키를 복사하여 붙여넣기 해 주세요.'\n",
    "\n",
    "#url 입력\n",
    "url = 'http://apis.data.go.kr/1400377/forestPoint/forestPointListGeongugSearch'\n",
    "params ={'serviceKey' : decoding , \n",
    "'pageNo' : '1', \n",
    "'numOfRows' : '10', \n",
    "'startCreateDt' : '2020', \n",
    "'endCreateDt' : '20211103' }\n",
    "\n",
    "response = requests.get(url, params=params)\n",
    "\n",
    "# xml 내용\n",
    "content = response.text\n",
    "\n",
    "# 깔끔한 출력 위한 코드\n",
    "pp = pprint.PrettyPrinter(indent=4)\n",
    "#print(pp.pprint(content))"
   ]
  }
 ],
 "metadata": {
  "kernelspec": {
   "display_name": "Python 3",
   "language": "python",
   "name": "python3"
  },
  "language_info": {
   "codemirror_mode": {
    "name": "ipython",
    "version": 3
   },
   "file_extension": ".py",
   "mimetype": "text/x-python",
   "name": "python",
   "nbconvert_exporter": "python",
   "pygments_lexer": "ipython3",
   "version": "3.9.10"
  },
  "orig_nbformat": 4,
  "vscode": {
   "interpreter": {
    "hash": "d5e82c3fb7da1ea83acbd3af36819ee526c08f1ab732399acb2375113e5497e2"
   }
  }
 },
 "nbformat": 4,
 "nbformat_minor": 2
}
